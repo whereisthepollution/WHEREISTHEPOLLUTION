{
 "cells": [
  {
   "cell_type": "code",
   "execution_count": 1,
   "metadata": {},
   "outputs": [],
   "source": [
    "from mpl_toolkits.basemap import Basemap\n",
    "import matplotlib.pyplot as plt\n",
    "import pandas as pd\n",
    "from netCDF4 import Dataset\n",
    "import numpy as np"
   ]
  },
  {
   "cell_type": "code",
   "execution_count": 2,
   "metadata": {},
   "outputs": [],
   "source": [
    "def date_column_to_matrix(subset_time, rows, columns):\n",
    "    date=pd.to_datetime(subset_time)\n",
    "    start = date.min().timestamp()\n",
    "    end = date.max().timestamp()\n",
    "    a = np.linspace(start, end, rows)\n",
    "    b = a.reshape(-1,1)\n",
    "    c = np.ones((1,columns))\n",
    "    d = b * c\n",
    "    return d"
   ]
  },
  {
   "cell_type": "code",
   "execution_count": 3,
   "metadata": {},
   "outputs": [],
   "source": [
    "def main_function(fh):\n",
    "    #Get Values from file for lat, lon, N0\" and time\n",
    "    no2_2 = fh.groups['PRODUCT'].variables['nitrogendioxide_tropospheric_column'][:]\n",
    "    no2_2[fh.groups['PRODUCT'].variables['qa_value'][:,:]<0.75]=np.nan\n",
    "    lons = fh.groups['PRODUCT'].variables['longitude'][:]\n",
    "    lats = fh.groups['PRODUCT'].variables['latitude'][:]\n",
    "    qa=fh.groups['PRODUCT'].variables['qa_value'][:]\n",
    "    time = fh.groups['PRODUCT'].variables['time_utc'][:]\n",
    "    subset_lons = lons[0,:,:]\n",
    "    rows, columns = subset_lons.shape\n",
    "    subset_lats = lats[0,:,:]\n",
    "    subset_no2 = no2_2[0,:,:]\n",
    "    subset_time = time[0, :]\n",
    "    subset_time_new = date_column_to_matrix(subset_time, rows, columns)\n",
    "    flatten_lon = subset_lons.flatten()\n",
    "    flatten_lat = subset_lats.flatten()\n",
    "    flatten_no2 = subset_no2.flatten()\n",
    "    flatten_time = subset_time_new.flatten()\n",
    "    df = pd.DataFrame({'longitudes': flatten_lon,\n",
    "                      'latitudes': flatten_lat,\n",
    "                      'NO2': flatten_no2,\n",
    "                      'time': flatten_time})\n",
    "    df = df.dropna()\n",
    "    df1 = df[(df['longitudes'] >=-12.0) & (df['longitudes'] <=5.0) & (df['latitudes'] >=35) & (df['latitudes'] <=44.0)]\n",
    "    df1['date'] = pd.to_datetime(df1['time'], unit='s')\n",
    "    df1['file'] = str(os.fsdecode(file))\n",
    "    return df1"
   ]
  },
  {
   "cell_type": "code",
   "execution_count": 4,
   "metadata": {},
   "outputs": [
    {
     "name": "stderr",
     "output_type": "stream",
     "text": [
      "/anaconda3/lib/python3.7/site-packages/ipykernel_launcher.py:25: SettingWithCopyWarning: \n",
      "A value is trying to be set on a copy of a slice from a DataFrame.\n",
      "Try using .loc[row_indexer,col_indexer] = value instead\n",
      "\n",
      "See the caveats in the documentation: http://pandas.pydata.org/pandas-docs/stable/indexing.html#indexing-view-versus-copy\n",
      "/anaconda3/lib/python3.7/site-packages/ipykernel_launcher.py:26: SettingWithCopyWarning: \n",
      "A value is trying to be set on a copy of a slice from a DataFrame.\n",
      "Try using .loc[row_indexer,col_indexer] = value instead\n",
      "\n",
      "See the caveats in the documentation: http://pandas.pydata.org/pandas-docs/stable/indexing.html#indexing-view-versus-copy\n"
     ]
    }
   ],
   "source": [
    "import os\n",
    "\n",
    "path = '/Users/aitorizquierdo/Desktop/air-quality-madrid/sentinel/'\n",
    "\n",
    "folder = os.fsencode(path)\n",
    "\n",
    "final_df = []\n",
    "\n",
    "for file in os.listdir(folder):\n",
    "    filename = os.fsdecode(file)\n",
    "    if filename.endswith( ('.nc') ): # whatever file types you're using...\n",
    "        #print(os.fsdecode(file))\n",
    "        my_example_nc_file = path+os.fsdecode(file)\n",
    "        fh = Dataset(my_example_nc_file, mode='r')\n",
    "        temp_df = main_function(fh)\n",
    "        final_df.append(temp_df)\n",
    "        #print(final_df)\n",
    "final_df = pd.concat(final_df,axis=0)"
   ]
  },
  {
   "cell_type": "code",
   "execution_count": 7,
   "metadata": {},
   "outputs": [],
   "source": [
    "export_csv = final_df.to_csv (path+'\\export_dataframe.csv', index = None, header=True) #Don't forget to add '.csv' at the end of the path"
   ]
  },
  {
   "cell_type": "code",
   "execution_count": null,
   "metadata": {},
   "outputs": [],
   "source": []
  }
 ],
 "metadata": {
  "kernelspec": {
   "display_name": "Python 3",
   "language": "python",
   "name": "python3"
  },
  "language_info": {
   "codemirror_mode": {
    "name": "ipython",
    "version": 3
   },
   "file_extension": ".py",
   "mimetype": "text/x-python",
   "name": "python",
   "nbconvert_exporter": "python",
   "pygments_lexer": "ipython3",
   "version": "3.7.1"
  }
 },
 "nbformat": 4,
 "nbformat_minor": 2
}
